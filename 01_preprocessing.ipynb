{
 "cells": [
  {
   "cell_type": "markdown",
   "id": "applicable-fountain",
   "metadata": {},
   "source": [
    "# 라이브러리 로드 "
   ]
  },
  {
   "cell_type": "code",
   "execution_count": 2,
   "id": "incident-catering",
   "metadata": {},
   "outputs": [
    {
     "name": "stderr",
     "output_type": "stream",
     "text": [
      "/opt/app-root/lib/python3.6/site-packages/geopandas/_compat.py:91: UserWarning: The Shapely GEOS version (3.8.0-CAPI-1.13.1 ) is incompatible with the GEOS version PyGEOS was compiled with (3.9.0-CAPI-1.16.2). Conversions between both will be slow.\n",
      "  shapely_geos_version, geos_capi_version_string\n"
     ]
    }
   ],
   "source": [
    "from geoband.API import *\n",
    "import pandas as pd\n",
    "import geopandas as gpd\n",
    "import numpy as np\n",
    "import seaborn as sns\n",
    "import matplotlib.pyplot as plt\n",
    "\n",
    "import json\n",
    "import shapefile"
   ]
  },
  {
   "cell_type": "code",
   "execution_count": 4,
   "id": "special-jackson",
   "metadata": {},
   "outputs": [],
   "source": [
    "import warnings\n",
    "warnings.filterwarnings(action='ignore')"
   ]
  },
  {
   "cell_type": "code",
   "execution_count": 3,
   "id": "vocal-angola",
   "metadata": {},
   "outputs": [],
   "source": [
    "acci_info = gpd.read_file('./data/1.대전광역시_교통사고내역(2017~2019).csv') # 교통사고 내역\n",
    "acci_grid = gpd.read_file('./data/2.대전광역시_교통사고격자(2017~2019).geojson') # 교통사고 격자"
   ]
  },
  {
   "cell_type": "markdown",
   "id": "dried-vaccine",
   "metadata": {
    "scrolled": true
   },
   "source": [
    "### 격자 전용 데이터프레임"
   ]
  },
  {
   "cell_type": "code",
   "execution_count": 5,
   "id": "martial-ordering",
   "metadata": {},
   "outputs": [],
   "source": [
    "grid = acci_grid[['gid', 'geometry']]"
   ]
  },
  {
   "cell_type": "markdown",
   "id": "referenced-pantyhose",
   "metadata": {},
   "source": [
    "### 격자 데이터로 shp 파일 생성"
   ]
  },
  {
   "cell_type": "code",
   "execution_count": null,
   "id": "tender-insider",
   "metadata": {},
   "outputs": [],
   "source": [
    "# multipolygon to polygon\n",
    "\n",
    "from shapely.geometry.polygon import Polygon\n",
    "from shapely.geometry.multipolygon import MultiPolygon\n",
    "\n",
    "def explode(indata):\n",
    "    indf = indata\n",
    "    outdf = gpd.GeoDataFrame(columns=indf.columns)\n",
    "    for idx, row in indf.iterrows():\n",
    "        if type(row.geometry) == Polygon:\n",
    "            outdf = outdf.append(row,ignore_index=True)\n",
    "        if type(row.geometry) == MultiPolygon:\n",
    "            multdf = gpd.GeoDataFrame(columns=indf.columns)\n",
    "            recs = len(row.geometry)\n",
    "            multdf = multdf.append([row]*recs,ignore_index=True)\n",
    "            for geom in range(recs):\n",
    "                multdf.loc[geom,'geometry'] = row.geometry[geom]\n",
    "            outdf = outdf.append(multdf,ignore_index=True)\n",
    "    return outdf\n",
    "\n",
    "grid2 = explode(grid)\n",
    "grid2.to_file(\"polygon_grid.geojson\", driver='GeoJSON') # save"
   ]
  },
  {
   "cell_type": "code",
   "execution_count": null,
   "id": "valid-respondent",
   "metadata": {},
   "outputs": [],
   "source": [
    "# geojson to shape\n",
    "\n",
    "\n",
    "# The json module is needed to load the geoJSON file\n",
    "# The shapefile, from pyshp, is needed to construct the shapefile object\n",
    "class GeoJ:\n",
    "    geometryType = ''\n",
    "    columnsList = []\n",
    "    __attributesPerF = []\n",
    "    attributes = []\n",
    "    geometries = []\n",
    "    shpFileObj = None\n",
    "    \n",
    "    # The constructor which basically needs the geoJSON file+path as an argument\n",
    "    def __init__(self, geoJFile):\n",
    "        # This try statement makes sure that the geojson file exists and it is in JSON structure\n",
    "        try:\n",
    "            self.geoJFile = open(geoJFile)\n",
    "        except IOError:\n",
    "            print(\"Error: can not find file. Make sure the file name and path are correct\")\n",
    "        else:\n",
    "            try:\n",
    "                self.geoJObj = json.load(self.geoJFile)\n",
    "            except ValueError:\n",
    "                print(\"Error: the file is not in JSON structure\")\n",
    "            else:\n",
    "                # If everything is fine, the __parseGeoJ private method will \n",
    "                # collect attributes and geometries from the geoJSON file\n",
    "                self.__parseGeoJ()\n",
    "\n",
    "    def __parseGeoJ(self):\n",
    "\n",
    "        self.geometryType = self.geoJObj['features'][0]['geometry']['type']\n",
    "\n",
    "        self.columnsList = self.geoJObj['features'][0]['properties'].keys()\n",
    "\n",
    "        for i in self.geoJObj['features']:\n",
    "\n",
    "            if i['geometry']['type'] == self.geometryType:\n",
    "                self.geometries.append(i['geometry']['coordinates'])\n",
    "                for j in self.columnsList:\n",
    "                    self.__attributesPerF.append(str(i['properties'][str(j)]))\n",
    "                self.attributes.append(self.__attributesPerF)\n",
    "                self.__attributesPerF = []\n",
    "\n",
    "    # This method along with the following private methods will create a shapefile\n",
    "    # from the collected attributes and geometries from the geoJSON file\n",
    "    def toShp(self, shpFile):\n",
    "\n",
    "        if self.geometryType == 'Point':\n",
    "            self.__createPoint()\n",
    "        elif self.geometryType == 'LineString':\n",
    "            self.__createLine()\n",
    "        elif self.geometryType == 'Polygon':\n",
    "            self.__createPolygon()\n",
    "        else:\n",
    "            print('Can not proceed. The geometry type ' + self.geometryType + ' is not supported in this program')\n",
    "            return\n",
    "\n",
    "        # Calling the __createPrjFile method to create a .prj file\n",
    "        self.__createPrjFile(shpFile)\n",
    "\n",
    "        # Saving the shape file, which creates .shp, .shx, and .dbf files\n",
    "        self.shpFileObj.save(shpFile)\n",
    "\n",
    "    # This method is used to create points shapefile\n",
    "    def __createPoint(self):\n",
    "\n",
    "        self.shpFileObj = shapefile.Writer(shapefile.POINT)\n",
    "        self.shpFileObj.autoBalance = 1\n",
    "        self.__createColumns()\n",
    "\n",
    "        for i in self.geometries:\n",
    "            self.shpFileObj.point(i[0],i[1])\n",
    "\n",
    "        for j in self.attributes:\n",
    "            self.shpFileObj.record(*j)\n",
    "    \n",
    "    # This method is used to create lines shapefile\n",
    "    def __createLine(self):\n",
    "\n",
    "        self.shpFileObj = shapefile.Writer(shapefile.POLYLINE)\n",
    "        self.shpFileObj.autoBalance = 1\n",
    "        self.__createColumns()\n",
    "\n",
    "        for i in self.geometries:\n",
    "            self.shpFileObj.line(parts=[i])\n",
    "\n",
    "        for j in self.attributes:\n",
    "            self.shpFileObj.record(*j)\n",
    "\n",
    "    # This method is used to create polygons shapefile\n",
    "    def __createPolygon(self):\n",
    "\n",
    "        self.shpFileObj = shapefile.Writer(shapefile.POLYGON)\n",
    "        self.shpFileObj.autoBalance = 1\n",
    "        self.__createColumns()\n",
    "\n",
    "        for i in self.geometries:\n",
    "            self.shpFileObj.poly(parts=i)\n",
    "\n",
    "        for j in self.attributes:\n",
    "            self.shpFileObj.record(*j)\n",
    "\n",
    "    # This method is used to create the columns names read from the geoJSON file\n",
    "    def __createColumns(self):\n",
    "\n",
    "        for i in self.columnsList:\n",
    "            # Field names cannot be unicode.\n",
    "            # That is why I cast it to string.\n",
    "            self.shpFileObj.field(str(i), 'C', '50')\n",
    "\n",
    "    # This method currently creates a .prj file with WGS84 projection\n",
    "    def __createPrjFile(self, shpFile):\n",
    "\n",
    "        prjFile = open( shpFile + '.prj', 'w')\n",
    "        prjStr = 'GEOGCS[\"WGS 84\",DATUM[\"WGS_1984\",SPHEROID[\"WGS 84\",6378137,298.257223563]],PRIMEM[\"Greenwich\",0],UNIT[\"degree\",0.0174532925199433]]'\n",
    "        prjFile.write(prjStr)\n",
    "        prjFile.close()\n",
    "\n",
    "##########################\n",
    "#      running main      #\n",
    "##########################\n",
    "\n",
    "if __name__ == '__main__':\n",
    "\n",
    "    # Create an object from the GeoJ class\n",
    "    gJ = GeoJ('./polygon_grid.geojson')\n",
    "    \n",
    "    # Creating a shapefile from the geoJSON object\n",
    "    gJ.toShp('./grid.shp')\n"
   ]
  },
  {
   "cell_type": "markdown",
   "id": "superior-antigua",
   "metadata": {},
   "source": [
    "# 1. 보행, 차량 신호등 개수\n",
    "* point 좌표"
   ]
  },
  {
   "cell_type": "code",
   "execution_count": 6,
   "id": "different-evolution",
   "metadata": {},
   "outputs": [],
   "source": [
    "sg_walk = gpd.read_file('./data/3.대전광역시_신호등(보행등).geojson') # 보행신호등 7407개\n",
    "sg_car = gpd.read_file('./data/4.대전광역시_신호등(차량등).geojson') # 차량신호등 11998개"
   ]
  },
  {
   "cell_type": "markdown",
   "id": "legitimate-samuel",
   "metadata": {},
   "source": [
    "### 보행 신호등"
   ]
  },
  {
   "cell_type": "code",
   "execution_count": 7,
   "id": "expressed-consumption",
   "metadata": {},
   "outputs": [
    {
     "name": "stdout",
     "output_type": "stream",
     "text": [
      "보행 신호등 총합: 7406.0\n"
     ]
    }
   ],
   "source": [
    "# 격자데이터가 신호등 좌표를 포함하도록 join \n",
    "sg_walk = sg_walk[['geometry']]\n",
    "result1 = gpd.sjoin(grid, sg_walk, how='left', op='intersects')\n",
    "\n",
    "# index번호가 있는 것은 1로, 아닌 것은 0으로 채움\n",
    "result1.loc[result1[\"index_right\"] >= 0, 'index_right'] = 1\n",
    "result1['index_right'].fillna(0, inplace=True)\n",
    "\n",
    "# 같은 gid와 geomtry를 가진 것끼리 더해서 갯수를 구함\n",
    "result1 = result1.groupby(['gid', 'geometry'], as_index = False, sort=False).sum()\n",
    "result1.rename({'index_right':'sg_walk_cnt'}, axis=1, inplace=True)\n",
    "\n",
    "print('보행 신호등 총합:', result1['sg_walk_cnt'].sum())"
   ]
  },
  {
   "cell_type": "markdown",
   "id": "injured-vampire",
   "metadata": {},
   "source": [
    "### 차량 신호등"
   ]
  },
  {
   "cell_type": "code",
   "execution_count": 8,
   "id": "changed-regard",
   "metadata": {},
   "outputs": [
    {
     "name": "stdout",
     "output_type": "stream",
     "text": [
      "차량 신호등 총합: 11995.0\n"
     ]
    }
   ],
   "source": [
    "sg_car = sg_car[['geometry']]\n",
    "result2 = gpd.sjoin(grid, sg_car, how='left', op='intersects')\n",
    "\n",
    "result2.loc[result2[\"index_right\"] >= 0, 'index_right'] = 1\n",
    "result2['index_right'].fillna(0, inplace=True)\n",
    "\n",
    "result2 = result2.groupby(['gid', 'geometry'], as_index = False, sort=False).sum()\n",
    "result2.rename({'index_right':'sg_car_cnt'}, axis=1, inplace=True)\n",
    "\n",
    "print('차량 신호등 총합:', result2['sg_car_cnt'].sum())"
   ]
  },
  {
   "cell_type": "code",
   "execution_count": 9,
   "id": "annual-refrigerator",
   "metadata": {},
   "outputs": [],
   "source": [
    "result2 = result2[['gid', 'sg_car_cnt']]\n",
    "result2 = pd.merge(result1, result2, how='left', on='gid')"
   ]
  },
  {
   "cell_type": "markdown",
   "id": "martial-plasma",
   "metadata": {},
   "source": [
    "# 2. 안전지대 개수\n",
    "* multipolygon"
   ]
  },
  {
   "cell_type": "code",
   "execution_count": 10,
   "id": "nasty-union",
   "metadata": {},
   "outputs": [],
   "source": [
    "safe_zn = gpd.read_file('./data/5.대전광역시_안전지대.geojson') #3026"
   ]
  },
  {
   "cell_type": "code",
   "execution_count": 11,
   "id": "defensive-store",
   "metadata": {},
   "outputs": [],
   "source": [
    "safe_zn = safe_zn[['geometry']]\n",
    "temp = gpd.sjoin(grid, safe_zn, how='left', op='intersects')"
   ]
  },
  {
   "cell_type": "code",
   "execution_count": 12,
   "id": "soviet-banking",
   "metadata": {},
   "outputs": [
    {
     "name": "stdout",
     "output_type": "stream",
     "text": [
      "안전지대 총합: 4211.0\n"
     ]
    }
   ],
   "source": [
    "temp.loc[temp[\"index_right\"] >= 0, 'index_right'] = 1\n",
    "temp['index_right'].fillna(0, inplace=True)\n",
    "\n",
    "temp = temp.groupby(['gid', 'geometry'], as_index = False, sort=False).sum()\n",
    "temp.rename({'index_right':'safe_zn_cnt'}, axis=1, inplace=True)\n",
    "\n",
    "temp = temp[['gid', 'safe_zn_cnt']]\n",
    "\n",
    "print('안전지대 총합:', temp['safe_zn_cnt'].sum())"
   ]
  },
  {
   "attachments": {
    "image.png": {
     "image/png": "[encoded data removed]"
    }
   },
   "cell_type": "markdown",
   "id": "gothic-international",
   "metadata": {},
   "source": [
    "![image.png](attachment:image.png)\n",
    "\n",
    " multipolygon 형태로 된 데이터의 경우, 위와 같이 격자 위에 걸쳐질 떄 격자별로 갯수가 중복 count됨을 유의"
   ]
  },
  {
   "cell_type": "code",
   "execution_count": 13,
   "id": "premier-austria",
   "metadata": {},
   "outputs": [],
   "source": [
    "result3 = pd.merge(result2, temp, how='left', on='gid')"
   ]
  },
  {
   "cell_type": "markdown",
   "id": "requested-apple",
   "metadata": {},
   "source": [
    "# 3. 횡단보도 개수\n",
    "* multipolygon"
   ]
  },
  {
   "cell_type": "code",
   "execution_count": 14,
   "id": "outer-wellington",
   "metadata": {},
   "outputs": [],
   "source": [
    "cross = gpd.read_file('./data/6.대전광역시_횡단보도.geojson') # 12589"
   ]
  },
  {
   "cell_type": "code",
   "execution_count": 15,
   "id": "scenic-arbor",
   "metadata": {},
   "outputs": [
    {
     "name": "stdout",
     "output_type": "stream",
     "text": [
      "횡단보도 총합: 15208.0\n"
     ]
    }
   ],
   "source": [
    "cross = cross[['geometry']]\n",
    "temp = gpd.sjoin(grid, cross, how='left', op='intersects')\n",
    "\n",
    "temp.loc[temp[\"index_right\"] >= 0, 'index_right'] = 1\n",
    "temp['index_right'].fillna(0, inplace=True)\n",
    "\n",
    "temp = temp.groupby(['gid', 'geometry'], as_index = False, sort=False).sum()\n",
    "temp.rename({'index_right':'cro_cnt'}, axis=1, inplace=True)\n",
    "\n",
    "temp = temp[['gid', 'cro_cnt']]\n",
    "\n",
    "print('횡단보도 총합:', temp['cro_cnt'].sum())"
   ]
  },
  {
   "cell_type": "code",
   "execution_count": 16,
   "id": "amino-salvation",
   "metadata": {},
   "outputs": [],
   "source": [
    "result4 = pd.merge(result3, temp, how='left', on='gid')"
   ]
  },
  {
   "cell_type": "markdown",
   "id": "preceding-utility",
   "metadata": {},
   "source": [
    "# 4. 도로속도표지\n",
    "* point 좌표\n",
    "* 한 격자 안에 제한속도가 다른 경우 고려"
   ]
  },
  {
   "cell_type": "code",
   "execution_count": 17,
   "id": "dynamic-harvest",
   "metadata": {},
   "outputs": [],
   "source": [
    "spd_sign = gpd.read_file('./data/7.대전광역시_도로속도표시.geojson') # 6799"
   ]
  },
  {
   "cell_type": "markdown",
   "id": "second-space",
   "metadata": {},
   "source": [
    "### 4. 1. 도로속도표지의 개수"
   ]
  },
  {
   "cell_type": "code",
   "execution_count": 18,
   "id": "defined-governor",
   "metadata": {},
   "outputs": [
    {
     "name": "stdout",
     "output_type": "stream",
     "text": [
      "속도표지 총합: 6798.0\n"
     ]
    }
   ],
   "source": [
    "# 개수\n",
    "spd_sign_count = spd_sign[['geometry']]\n",
    "temp = gpd.sjoin(grid, spd_sign_count, how='left', op='intersects')\n",
    "\n",
    "temp.loc[temp[\"index_right\"] >= 0, 'index_right'] = 1\n",
    "temp['index_right'].fillna(0, inplace=True)\n",
    "\n",
    "temp = temp.groupby(['gid', 'geometry'], as_index = False, sort=False).sum()\n",
    "temp.rename({'index_right':'spd_sign_cnt'}, axis=1, inplace=True)\n",
    "\n",
    "temp = temp[['gid', 'spd_sign_cnt']]\n",
    "\n",
    "print('속도표지 총합:', temp['spd_sign_cnt'].sum())"
   ]
  },
  {
   "cell_type": "markdown",
   "id": "special-device",
   "metadata": {},
   "source": [
    "### 4. 2. 도로속도표지에 명시된 제한속도"
   ]
  },
  {
   "cell_type": "code",
   "execution_count": 19,
   "id": "engaging-drama",
   "metadata": {},
   "outputs": [],
   "source": [
    "spd_sign_char = spd_sign[['geometry', 'char_ctt']]\n",
    "temp_char = gpd.sjoin(grid, spd_sign_char, how='left', op='intersects')\n",
    "temp_char = temp_char[['gid', 'geometry', 'char_ctt']]"
   ]
  },
  {
   "cell_type": "code",
   "execution_count": 20,
   "id": "impressive-postage",
   "metadata": {},
   "outputs": [],
   "source": [
    "temp_char[temp_char['char_ctt']=='70m']\n",
    "temp_char.loc[temp_char[\"char_ctt\"] == '70m', 'char_ctt'] = 70\n",
    "temp_char['char_ctt'] = pd.to_numeric(temp_char['char_ctt'])"
   ]
  },
  {
   "cell_type": "code",
   "execution_count": 21,
   "id": "regular-surprise",
   "metadata": {},
   "outputs": [],
   "source": [
    "# 격자별로 최대값에서 최솟값 빼서 속도 차이 계산\n",
    "\n",
    "def mydef(x):\n",
    "    return x['char_ctt'].max() - x['char_ctt'].min()\n",
    "\n",
    "test = temp_char.groupby(['gid', 'geometry'], as_index = False, sort=False).apply(mydef)\n",
    "test.columns = ['gid', 'geometry', 'spd_diff']"
   ]
  },
  {
   "cell_type": "code",
   "execution_count": 22,
   "id": "embedded-river",
   "metadata": {
    "scrolled": true
   },
   "outputs": [
    {
     "name": "stdout",
     "output_type": "stream",
     "text": [
      "[nan  0. 20. 10. 50. 30.]\n"
     ]
    }
   ],
   "source": [
    "print(test['spd_diff'].unique())\n",
    "spd_diff = test[(test['spd_diff'] == 10) | (test['spd_diff'] == 20) | (test['spd_diff'] == 30) | (test['spd_diff'] == 50)]\n",
    "spd_diff = spd_diff[['gid', 'spd_diff']]"
   ]
  },
  {
   "cell_type": "code",
   "execution_count": 23,
   "id": "portable-register",
   "metadata": {},
   "outputs": [],
   "source": [
    "result5 = pd.merge(result4, temp,  how='left', on='gid')\n",
    "result5 = pd.merge(result5, spd_diff,  how='left', on='gid')\n",
    "result5['spd_diff'].fillna(0, inplace=True)"
   ]
  },
  {
   "cell_type": "markdown",
   "id": "completed-bridges",
   "metadata": {},
   "source": [
    "### 4.3. 도로속도표지의 유무(0 or 1)"
   ]
  },
  {
   "cell_type": "code",
   "execution_count": 24,
   "id": "weird-cotton",
   "metadata": {},
   "outputs": [],
   "source": [
    "# 표지 유무\n",
    "result5.loc[result5[\"spd_sign_cnt\"] >= 1, 'spd_sign'] = 1\n",
    "result5['spd_sign'].fillna(0, inplace=True)"
   ]
  },
  {
   "cell_type": "markdown",
   "id": "narrow-photograph",
   "metadata": {},
   "source": [
    "# 5. 정차금지지대 개수\n",
    "* multipolygon"
   ]
  },
  {
   "cell_type": "code",
   "execution_count": 25,
   "id": "dietary-pizza",
   "metadata": {},
   "outputs": [],
   "source": [
    "pull_over = gpd.read_file('./data/8.대전광역시_정차금지지대.geojson') # 46개"
   ]
  },
  {
   "cell_type": "code",
   "execution_count": 26,
   "id": "realistic-sympathy",
   "metadata": {},
   "outputs": [
    {
     "name": "stdout",
     "output_type": "stream",
     "text": [
      "정차금지지대 총합: 64.0\n"
     ]
    }
   ],
   "source": [
    "pull_over = pull_over[['geometry']]\n",
    "temp = gpd.sjoin(grid, pull_over, how='left', op='intersects')\n",
    "\n",
    "temp.loc[temp[\"index_right\"] >= 0, 'index_right'] = 1\n",
    "temp['index_right'].fillna(0, inplace=True)\n",
    "\n",
    "temp = temp.groupby(['gid', 'geometry'], as_index = False, sort=False).sum()\n",
    "temp.rename({'index_right':'pull_over_cnt'}, axis=1, inplace=True)\n",
    "\n",
    "temp = temp[['gid', 'pull_over_cnt']]\n",
    "\n",
    "print('정차금지지대 총합:', temp['pull_over_cnt'].sum())"
   ]
  },
  {
   "cell_type": "code",
   "execution_count": 27,
   "id": "personalized-membership",
   "metadata": {},
   "outputs": [],
   "source": [
    "result6 = pd.merge(result5, temp, how='left', on='gid')"
   ]
  },
  {
   "cell_type": "markdown",
   "id": "saving-mouth",
   "metadata": {},
   "source": [
    "# 6. 교통안전표지\n",
    "* point 좌표"
   ]
  },
  {
   "attachments": {
    "image.png": {
     "image/png": "[encoded data removed]"
    }
   },
   "cell_type": "markdown",
   "id": "clean-protection",
   "metadata": {},
   "source": [
    "![image.png](attachment:image.png)"
   ]
  },
  {
   "cell_type": "code",
   "execution_count": 28,
   "id": "intellectual-combat",
   "metadata": {
    "scrolled": true
   },
   "outputs": [
    {
     "data": {
      "text/plain": [
       "array([None, '길없음', '불법주정차특별관리구역', '여기서부터 30m', '600*600', '시간제 주차 허용',\n",
       "       '점심시간 주차허용', '단,주말·공휴일제외', '합류주의', '점심시간주차허용', '100m', '400m',\n",
       "       '180m. 시간제 주차허용', '150m. 시간제 주차허용', '160m. 시간제 주차허용', '시간제 주차허용',\n",
       "       '허용시간외 견인지역', '300m. 시간제 주차허용', '800m', '심야시간 주차허용', '심야시간 주차 허용',\n",
       "       '07:30-21:00', '1.5톤 이하 화물차 허용', '점심시간 주차 허용', '우회전금지'],\n",
       "      dtype=object)"
      ]
     },
     "execution_count": 28,
     "metadata": {},
     "output_type": "execute_result"
    }
   ],
   "source": [
    "safe_sign = gpd.read_file('./data/9.대전광역시_교통안전표지.geojson') # 37606개\n",
    "check = safe_sign[['sign_ctt_f', 'sign_ctt_s', 'sign_ctt_t']]\n",
    "check['sign_ctt_t'].unique()"
   ]
  },
  {
   "cell_type": "markdown",
   "id": "communist-folder",
   "metadata": {},
   "source": [
    "# 7. 교통CCTV 개수\n",
    "* point 좌표"
   ]
  },
  {
   "cell_type": "code",
   "execution_count": 29,
   "id": "close-public",
   "metadata": {},
   "outputs": [],
   "source": [
    "cctv = gpd.read_file('./data/10.대전광역시_교통CCTV.geojson') # 132개"
   ]
  },
  {
   "cell_type": "code",
   "execution_count": 30,
   "id": "stock-meeting",
   "metadata": {},
   "outputs": [
    {
     "name": "stdout",
     "output_type": "stream",
     "text": [
      "CCTV 총합: 132.0\n"
     ]
    }
   ],
   "source": [
    "cctv = cctv[['geometry']]\n",
    "temp = gpd.sjoin(grid, cctv, how='left', op='intersects')\n",
    "\n",
    "temp.loc[temp[\"index_right\"] >= 0, 'index_right'] = 1\n",
    "temp['index_right'].fillna(0, inplace=True)\n",
    "\n",
    "temp = temp.groupby(['gid', 'geometry'], as_index = False, sort=False).sum()\n",
    "temp.rename({'index_right':'cctv_cnt'}, axis=1, inplace=True)\n",
    "\n",
    "temp = temp[['gid', 'cctv_cnt']]\n",
    "\n",
    "print('CCTV 총합:', temp['cctv_cnt'].sum())"
   ]
  },
  {
   "cell_type": "code",
   "execution_count": 31,
   "id": "complete-boulder",
   "metadata": {
    "scrolled": true
   },
   "outputs": [],
   "source": [
    "result7 = pd.merge(result6, temp, how='left', on='gid')"
   ]
  },
  {
   "cell_type": "markdown",
   "id": "attended-lancaster",
   "metadata": {},
   "source": [
    "# 8. 인구수\n",
    "* 격자별 인구\n",
    "* 사람 없는 격자는 최소 43803개"
   ]
  },
  {
   "cell_type": "code",
   "execution_count": 32,
   "id": "electric-jefferson",
   "metadata": {},
   "outputs": [],
   "source": [
    "all_people = gpd.read_file('./data/12.대전광역시_인구정보(총인구).geojson') # 1462724"
   ]
  },
  {
   "cell_type": "code",
   "execution_count": 33,
   "id": "whole-active",
   "metadata": {
    "scrolled": false
   },
   "outputs": [],
   "source": [
    "all_people = all_people[['gid', 'val']]\n",
    "temp = pd.merge(result7, all_people, on='gid')\n",
    "temp['val'].fillna(0, inplace=True)\n",
    "temp.rename({'val':'pop'}, axis=1, inplace=True)"
   ]
  },
  {
   "cell_type": "code",
   "execution_count": 34,
   "id": "electoral-webster",
   "metadata": {
    "scrolled": true
   },
   "outputs": [],
   "source": [
    "result8 = temp"
   ]
  },
  {
   "cell_type": "markdown",
   "id": "sonic-carbon",
   "metadata": {},
   "source": [
    "# 9. 격자별 인구수 대비 고령인, 유소년 인구 비율"
   ]
  },
  {
   "cell_type": "code",
   "execution_count": 35,
   "id": "anonymous-bouquet",
   "metadata": {},
   "outputs": [],
   "source": [
    "all_pop = gpd.read_file('./data/12.대전광역시_인구정보(총인구).geojson') # 1462724\n",
    "old_pop = gpd.read_file('./data/13.대전광역시_인구정보(고령).geojson') # 225980\n",
    "kid_pop = gpd.read_file('./data/15.대전광역시_인구정보(유소년).geojson') # 160152"
   ]
  },
  {
   "cell_type": "code",
   "execution_count": 36,
   "id": "cleared-scheduling",
   "metadata": {},
   "outputs": [],
   "source": [
    "all_pop = all_pop[['gid', 'val']]\n",
    "all_pop.rename({'val':'all_pop'}, axis=1, inplace=True)\n",
    "\n",
    "old_pop = old_pop[['gid', 'val']]\n",
    "old_pop.rename({'val':'old_pop'}, axis=1, inplace=True)\n",
    "\n",
    "kid_pop = kid_pop[['gid', 'val']]\n",
    "kid_pop.rename({'val':'kid_pop'}, axis=1, inplace=True)"
   ]
  },
  {
   "cell_type": "code",
   "execution_count": 37,
   "id": "coral-petersburg",
   "metadata": {},
   "outputs": [],
   "source": [
    "temp = pd.merge(all_pop, old_pop, on='gid')\n",
    "temp = pd.merge(temp, kid_pop, on='gid')"
   ]
  },
  {
   "cell_type": "code",
   "execution_count": 38,
   "id": "dedicated-straight",
   "metadata": {
    "scrolled": false
   },
   "outputs": [],
   "source": [
    "# 사람이 있는 곳\n",
    "temp.dropna(axis=0, inplace=True)\n",
    "no_people = temp[temp['all_pop'] == 0].index\n",
    "temp = temp.drop(no_people)"
   ]
  },
  {
   "cell_type": "code",
   "execution_count": 39,
   "id": "superb-barrier",
   "metadata": {},
   "outputs": [],
   "source": [
    "temp['old_pro'] = temp['old_pop']/temp['all_pop'] * 100\n",
    "temp['kid_pro'] = temp['kid_pop']/temp['all_pop'] * 100\n",
    "temp = temp[['gid', 'old_pro', 'kid_pro']]"
   ]
  },
  {
   "cell_type": "code",
   "execution_count": 40,
   "id": "closing-tokyo",
   "metadata": {},
   "outputs": [
    {
     "data": {
      "text/html": [
       "<div>\n",
       "<style scoped>\n",
       "    .dataframe tbody tr th:only-of-type {\n",
       "        vertical-align: middle;\n",
       "    }\n",
       "\n",
       "    .dataframe tbody tr th {\n",
       "        vertical-align: top;\n",
       "    }\n",
       "\n",
       "    .dataframe thead th {\n",
       "        text-align: right;\n",
       "    }\n",
       "</style>\n",
       "<table border=\"1\" class=\"dataframe\">\n",
       "  <thead>\n",
       "    <tr style=\"text-align: right;\">\n",
       "      <th></th>\n",
       "      <th>gid</th>\n",
       "      <th>old_pro</th>\n",
       "      <th>kid_pro</th>\n",
       "    </tr>\n",
       "  </thead>\n",
       "  <tbody>\n",
       "    <tr>\n",
       "      <th>202</th>\n",
       "      <td>다바776100</td>\n",
       "      <td>43.478261</td>\n",
       "      <td>0.0</td>\n",
       "    </tr>\n",
       "    <tr>\n",
       "      <th>214</th>\n",
       "      <td>다바777097</td>\n",
       "      <td>0.000000</td>\n",
       "      <td>0.0</td>\n",
       "    </tr>\n",
       "    <tr>\n",
       "      <th>216</th>\n",
       "      <td>다바777099</td>\n",
       "      <td>69.230769</td>\n",
       "      <td>0.0</td>\n",
       "    </tr>\n",
       "    <tr>\n",
       "      <th>217</th>\n",
       "      <td>다바777100</td>\n",
       "      <td>37.500000</td>\n",
       "      <td>0.0</td>\n",
       "    </tr>\n",
       "    <tr>\n",
       "      <th>218</th>\n",
       "      <td>다바777101</td>\n",
       "      <td>0.000000</td>\n",
       "      <td>0.0</td>\n",
       "    </tr>\n",
       "    <tr>\n",
       "      <th>...</th>\n",
       "      <td>...</td>\n",
       "      <td>...</td>\n",
       "      <td>...</td>\n",
       "    </tr>\n",
       "    <tr>\n",
       "      <th>52431</th>\n",
       "      <td>라바000177</td>\n",
       "      <td>35.483871</td>\n",
       "      <td>0.0</td>\n",
       "    </tr>\n",
       "    <tr>\n",
       "      <th>52545</th>\n",
       "      <td>라바001182</td>\n",
       "      <td>0.000000</td>\n",
       "      <td>0.0</td>\n",
       "    </tr>\n",
       "    <tr>\n",
       "      <th>52642</th>\n",
       "      <td>라바002186</td>\n",
       "      <td>0.000000</td>\n",
       "      <td>0.0</td>\n",
       "    </tr>\n",
       "    <tr>\n",
       "      <th>52643</th>\n",
       "      <td>라바002187</td>\n",
       "      <td>46.153846</td>\n",
       "      <td>0.0</td>\n",
       "    </tr>\n",
       "    <tr>\n",
       "      <th>54417</th>\n",
       "      <td>라바027222</td>\n",
       "      <td>0.000000</td>\n",
       "      <td>0.0</td>\n",
       "    </tr>\n",
       "  </tbody>\n",
       "</table>\n",
       "<p>6551 rows × 3 columns</p>\n",
       "</div>"
      ],
      "text/plain": [
       "            gid    old_pro  kid_pro\n",
       "202    다바776100  43.478261      0.0\n",
       "214    다바777097   0.000000      0.0\n",
       "216    다바777099  69.230769      0.0\n",
       "217    다바777100  37.500000      0.0\n",
       "218    다바777101   0.000000      0.0\n",
       "...         ...        ...      ...\n",
       "52431  라바000177  35.483871      0.0\n",
       "52545  라바001182   0.000000      0.0\n",
       "52642  라바002186   0.000000      0.0\n",
       "52643  라바002187  46.153846      0.0\n",
       "54417  라바027222   0.000000      0.0\n",
       "\n",
       "[6551 rows x 3 columns]"
      ]
     },
     "execution_count": 40,
     "metadata": {},
     "output_type": "execute_result"
    }
   ],
   "source": [
    "temp"
   ]
  },
  {
   "cell_type": "code",
   "execution_count": 41,
   "id": "closed-shaft",
   "metadata": {},
   "outputs": [],
   "source": [
    "result9 = pd.merge(result8, temp, how='left', on='gid')\n",
    "result9['old_pro'].fillna(0, inplace=True)\n",
    "result9['kid_pro'].fillna(0, inplace=True)"
   ]
  },
  {
   "cell_type": "markdown",
   "id": "prescription-candidate",
   "metadata": {},
   "source": [
    "# 10. 도로명주소(건물)"
   ]
  },
  {
   "cell_type": "code",
   "execution_count": 42,
   "id": "macro-massage",
   "metadata": {
    "scrolled": true
   },
   "outputs": [],
   "source": [
    "building = gpd.read_file('./data/23.대전광역시_도로명주소(건물).geojson')\n",
    "building['CATEGORY'] = building.BDTYP_CD.str[:2]\n",
    "building_08 = building[building['CATEGORY'] == '08']"
   ]
  },
  {
   "cell_type": "markdown",
   "id": "color-means",
   "metadata": {},
   "source": [
    "## 10.1. 유소년 관련 건물\n",
    "* 08101 초등학교\n",
    "* 08102 중학교\n",
    "* 08103 고등학교\n",
    "* 08201 유치원\n",
    "* 08202 영유아보육시설\n",
    "* 08003 어린이집\n",
    "* 08204 아동복지시설\n",
    "* 08299 기타아동관련시설"
   ]
  },
  {
   "cell_type": "code",
   "execution_count": 43,
   "id": "geological-validity",
   "metadata": {},
   "outputs": [],
   "source": [
    "building_kid = building[(building['BDTYP_CD'] == '08101')| (building['BDTYP_CD'] == '08102') | \n",
    "         (building['BDTYP_CD'] == '08103') | (building['BDTYP_CD'] == '08201') |\n",
    "         (building['BDTYP_CD'] == '08202') | (building['BDTYP_CD'] == '08003') | \n",
    "         (building['BDTYP_CD'] == '08204') | (building['BDTYP_CD'] == '08299')\n",
    "]"
   ]
  },
  {
   "cell_type": "code",
   "execution_count": 44,
   "id": "spectacular-vanilla",
   "metadata": {},
   "outputs": [
    {
     "name": "stdout",
     "output_type": "stream",
     "text": [
      "유소년 시설 총합: 2320.0\n"
     ]
    }
   ],
   "source": [
    "building_kid = building_kid[['geometry']]\n",
    "temp = gpd.sjoin(grid, building_kid, how='left', op='intersects')\n",
    "\n",
    "temp.loc[temp[\"index_right\"] >= 0, 'index_right'] = 1\n",
    "temp['index_right'].fillna(0, inplace=True)\n",
    "\n",
    "temp = temp.groupby(['gid', 'geometry'], as_index = False, sort=False).sum()\n",
    "temp.rename({'index_right':'building_kid_cnt'}, axis=1, inplace=True)\n",
    "\n",
    "temp = temp[['gid', 'building_kid_cnt']]\n",
    "\n",
    "print('유소년 시설 총합:', temp['building_kid_cnt'].sum())"
   ]
  },
  {
   "cell_type": "code",
   "execution_count": 45,
   "id": "original-logging",
   "metadata": {},
   "outputs": [],
   "source": [
    "result10 = pd.merge(result9, temp, how='left', on='gid')"
   ]
  },
  {
   "cell_type": "markdown",
   "id": "regional-roberts",
   "metadata": {},
   "source": [
    "## 10.2. 노인 관련 건물\n",
    "* 08300 노인복지시설"
   ]
  },
  {
   "cell_type": "code",
   "execution_count": 46,
   "id": "accompanied-crest",
   "metadata": {},
   "outputs": [],
   "source": [
    "building_old = building[building['BDTYP_CD'] == '08300']"
   ]
  },
  {
   "cell_type": "code",
   "execution_count": 47,
   "id": "monetary-miracle",
   "metadata": {},
   "outputs": [
    {
     "name": "stdout",
     "output_type": "stream",
     "text": [
      "노인 시설 총합: 446.0\n"
     ]
    }
   ],
   "source": [
    "building_old = building_old[['geometry']]\n",
    "temp = gpd.sjoin(grid, building_old, how='left', op='intersects')\n",
    "\n",
    "temp.loc[temp[\"index_right\"] >= 0, 'index_right'] = 1\n",
    "temp['index_right'].fillna(0, inplace=True)\n",
    "\n",
    "temp = temp.groupby(['gid', 'geometry'], as_index = False, sort=False).sum()\n",
    "temp.rename({'index_right':'building_old_cnt'}, axis=1, inplace=True)\n",
    "\n",
    "temp = temp[['gid', 'building_old_cnt']]\n",
    "\n",
    "print('노인 시설 총합:', temp['building_old_cnt'].sum())"
   ]
  },
  {
   "cell_type": "code",
   "execution_count": 48,
   "id": "unlike-jacob",
   "metadata": {},
   "outputs": [],
   "source": [
    "result10 = pd.merge(result10, temp, how='left', on='gid')"
   ]
  },
  {
   "cell_type": "markdown",
   "id": "compact-giving",
   "metadata": {},
   "source": [
    "------------------------------"
   ]
  },
  {
   "cell_type": "markdown",
   "id": "emerging-charter",
   "metadata": {},
   "source": [
    "# 교통사고 횟수(종속변수)"
   ]
  },
  {
   "cell_type": "markdown",
   "id": "liked-indiana",
   "metadata": {},
   "source": [
    "* 합차기 전 최종 데이터를 'result'로 설정할 것\n"
   ]
  },
  {
   "cell_type": "code",
   "execution_count": 49,
   "id": "relative-cocktail",
   "metadata": {},
   "outputs": [],
   "source": [
    "result = result10.copy()"
   ]
  },
  {
   "cell_type": "markdown",
   "id": "violent-confusion",
   "metadata": {},
   "source": [
    "## 전체 교통사고(23647건)"
   ]
  },
  {
   "cell_type": "code",
   "execution_count": 50,
   "id": "paperback-addiction",
   "metadata": {
    "scrolled": true
   },
   "outputs": [],
   "source": [
    "acci_grid = acci_grid[['gid', 'acci_cnt']]\n",
    "result = pd.merge(result, acci_grid, how='left', on='gid')"
   ]
  },
  {
   "cell_type": "markdown",
   "id": "characteristic-consumption",
   "metadata": {},
   "source": [
    "## 1. 차-차 교통사고(18965건)"
   ]
  },
  {
   "cell_type": "code",
   "execution_count": 51,
   "id": "reserved-effectiveness",
   "metadata": {
    "scrolled": true
   },
   "outputs": [],
   "source": [
    "acci_car = acci_info[acci_info['피해운전자 차종'] !='보행자']\n",
    "acci_car.reset_index(inplace=True)\n",
    "acci_car['acci_car_cnt'] = 1\n",
    "acci_car = acci_car[['gid', 'acci_car_cnt']]"
   ]
  },
  {
   "cell_type": "code",
   "execution_count": 52,
   "id": "purple-mistake",
   "metadata": {},
   "outputs": [],
   "source": [
    "acci_car = acci_car.groupby(['gid'], as_index = False, sort=False).sum()\n",
    "result = pd.merge(result, acci_car, how='left', on='gid')\n",
    "result['acci_car_cnt'].fillna(0, inplace=True)"
   ]
  },
  {
   "cell_type": "markdown",
   "id": "sized-failure",
   "metadata": {},
   "source": [
    "## 2. 개인형이동수단(PM) 교통사고(123건)"
   ]
  },
  {
   "cell_type": "code",
   "execution_count": 53,
   "id": "appreciated-routine",
   "metadata": {},
   "outputs": [],
   "source": [
    "acci_pm = acci_info[(acci_info['피해운전자 차종'] =='개인형이동수단(PM)') | (acci_info['가해운전자 차종'] =='개인형이동수단(PM)')]\n",
    "acci_pm['acci_pm_cnt'] = 1\n",
    "acci_pm = acci_pm[['gid', 'acci_pm_cnt']]\n",
    "acci_pm = acci_pm.groupby(['gid'], as_index = False, sort=False).sum()"
   ]
  },
  {
   "cell_type": "code",
   "execution_count": 54,
   "id": "fewer-adventure",
   "metadata": {},
   "outputs": [],
   "source": [
    "result = pd.merge(result, acci_pm, how='left', on='gid')\n",
    "result['acci_pm_cnt'].fillna(0, inplace=True)"
   ]
  },
  {
   "cell_type": "markdown",
   "id": "biblical-chile",
   "metadata": {},
   "source": [
    "## 3. 차-사람 교통사고"
   ]
  },
  {
   "cell_type": "markdown",
   "id": "quick-prince",
   "metadata": {},
   "source": [
    "### 3. 1. 유소년 피해자(678건)"
   ]
  },
  {
   "cell_type": "code",
   "execution_count": 55,
   "id": "turned-external",
   "metadata": {
    "scrolled": true
   },
   "outputs": [],
   "source": [
    "acci_walk = acci_info[acci_info['피해운전자 차종']=='보행자']\n",
    "acci_walk_kid = acci_walk[(acci_walk['피해운전자 연령대'] == '10대미만') | (acci_walk['피해운전자 연령대']=='10대')]\n",
    "acci_walk_kid['acci_kid_cnt'] = 1\n",
    "acci_walk_kid = acci_walk_kid[['gid', 'acci_kid_cnt']]\n",
    "acci_walk_kid = acci_walk_kid.groupby(['gid'], as_index = False, sort=False).sum() "
   ]
  },
  {
   "cell_type": "code",
   "execution_count": 56,
   "id": "mature-glossary",
   "metadata": {
    "scrolled": true
   },
   "outputs": [],
   "source": [
    "result = pd.merge(result, acci_walk_kid, how='left', on='gid')\n",
    "result['acci_kid_cnt'].fillna(0, inplace=True)"
   ]
  },
  {
   "cell_type": "markdown",
   "id": "dying-trance",
   "metadata": {},
   "source": [
    "### 3.2. 노인 피해자(1420건)"
   ]
  },
  {
   "cell_type": "code",
   "execution_count": 57,
   "id": "gross-combat",
   "metadata": {
    "scrolled": true
   },
   "outputs": [],
   "source": [
    "acci_walk_old = acci_walk[(acci_walk['피해운전자 연령대'] == '60대')| (acci_walk['피해운전자 연령대']=='70대') |(acci_walk['피해운전자 연령대']=='80대')|(acci_walk['피해운전자 연령대']=='90대')  ]\n",
    "acci_walk_old['acci_old_cnt'] = 1\n",
    "acci_walk_old = acci_walk_old[['gid', 'acci_old_cnt']]"
   ]
  },
  {
   "cell_type": "code",
   "execution_count": 58,
   "id": "liable-viewer",
   "metadata": {},
   "outputs": [],
   "source": [
    "acci_walk_old = acci_walk_old.groupby(['gid'], as_index = False, sort=False).sum() "
   ]
  },
  {
   "cell_type": "code",
   "execution_count": 59,
   "id": "final-madness",
   "metadata": {
    "scrolled": true
   },
   "outputs": [],
   "source": [
    "result = pd.merge(result, acci_walk_old, how='left', on='gid')\n",
    "result['acci_old_cnt'].fillna(0, inplace=True)"
   ]
  },
  {
   "cell_type": "code",
   "execution_count": 60,
   "id": "hired-northeast",
   "metadata": {},
   "outputs": [],
   "source": [
    "result.to_file(\"result.geojson\", driver='GeoJSON') # 전처리 파일 저장"
   ]
  },
  {
   "cell_type": "markdown",
   "id": "ahead-singapore",
   "metadata": {},
   "source": [
    "# 변수명 정리\n",
    "## 독립변수\n",
    "* sg_walk_cnt 보행 신호등 개수\n",
    "* sg_car_cnt 차량 신호등 개수\n",
    "* safe_zn_cnt 안전 지대 개수\n",
    "* cro_cnt 횡단보도 개수\n",
    "* spd_sign_cnt 속도 표지 개수\n",
    "* spd_sign 속도 표지 유무\n",
    "* spd_diff 격자내 속도 표지 차이\n",
    "* pull_over_cnt 정차 금지 지대 개수\n",
    "* cctv_cnt CCTV 개수\n",
    "* pop 격자내 인구수\n",
    "* kid_pro 유소년 인구 비율\n",
    "* old_pro 노인 인구비율\n",
    "* building_kid_cnt 유소년 관련 건물 개수\n",
    "* building_old_cnt 노인 관련 건물 개수\n",
    "\n",
    "\n",
    "## 종속변수\n",
    "* acci_cnt 전체 교통사고\n",
    "* acci_car_cnt 차대차 교통사고\n",
    "* acci_pm_cnt 개인형이동수단 교통사고\n",
    "* acci_kid_cnt 유소년 피해자 교통사고\n",
    "* acci_old_cnt 노인 피해자 교통사고"
   ]
  }
 ],
 "metadata": {
  "kernelspec": {
   "display_name": "Python 3",
   "language": "python",
   "name": "python3"
  },
  "language_info": {
   "codemirror_mode": {
    "name": "ipython",
    "version": 3
   },
   "file_extension": ".py",
   "mimetype": "text/x-python",
   "name": "python",
   "nbconvert_exporter": "python",
   "pygments_lexer": "ipython3",
   "version": "3.6.9"
  }
 },
 "nbformat": 4,
 "nbformat_minor": 5
}
