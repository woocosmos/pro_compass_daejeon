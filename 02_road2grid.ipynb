{
 "cells": [
  {
   "cell_type": "code",
   "execution_count": 6,
   "id": "pediatric-saturday",
   "metadata": {
    "scrolled": false
   },
   "outputs": [],
   "source": [
    "from geoband.API import *\n",
    "import geopandas as gpd\n",
    "import pandas as pd\n",
    "import folium\n",
    "from folium.plugins import MarkerCluster, MiniMap\n",
    "import geojson\n",
    "import json"
   ]
  },
  {
   "cell_type": "markdown",
   "id": "southeast-minister",
   "metadata": {},
   "source": [
    "## 1. 대전광역시 격자"
   ]
  },
  {
   "cell_type": "code",
   "execution_count": 7,
   "id": "spatial-newfoundland",
   "metadata": {},
   "outputs": [],
   "source": [
    "acci_grid = gpd.read_file('./data/2.대전광역시_교통사고격자(2017~2019).geojson')\n",
    "grid = acci_grid[['gid', 'geometry']]\n",
    "# grid.to_file(\"grid.geojson\", driver='GeoJSON') # save"
   ]
  },
  {
   "cell_type": "markdown",
   "id": "theoretical-connectivity",
   "metadata": {},
   "source": [
    "## 2. 연속지적도 상 도로"
   ]
  },
  {
   "cell_type": "code",
   "execution_count": 8,
   "id": "ruled-league",
   "metadata": {},
   "outputs": [],
   "source": [
    "landmap = gpd.read_file('./data/28.대전광역시_연속지적도.geojson')\n",
    "landmap.JIBUN = landmap.JIBUN.str[-1:]\n",
    "landmap = landmap[landmap['JIBUN']=='도']\n",
    "# landmap.to_file(\"연속지적도 상 도로.geojson\", driver='GeoJSON') # save"
   ]
  },
  {
   "cell_type": "markdown",
   "id": "driving-antarctica",
   "metadata": {},
   "source": [
    "## 3. 상세도로망 상 도로 "
   ]
  },
  {
   "cell_type": "code",
   "execution_count": 9,
   "id": "inner-player",
   "metadata": {},
   "outputs": [
    {
     "name": "stderr",
     "output_type": "stream",
     "text": [
      "/opt/app-root/lib/python3.6/site-packages/IPython/core/interactiveshell.py:3072: DtypeWarning: Columns (7) have mixed types.Specify dtype option on import or set low_memory=False.\n",
      "  interactivity=interactivity, compiler=compiler, result=result)\n"
     ]
    }
   ],
   "source": [
    "traffic_link = gpd.read_file('./data/17.대전광역시_교통링크(2018).geojson')\n",
    "specific_road = gpd.read_file('./data/19.대전광역시_상세도로망(2018).geojson')\n",
    "traffic_est = pd.read_csv('./data/20.대전광역시_평일_일별_시간대별_추정교통량(2018).csv')"
   ]
  },
  {
   "cell_type": "code",
   "execution_count": 10,
   "id": "coated-leone",
   "metadata": {},
   "outputs": [],
   "source": [
    "chaos_frequency = pd.read_csv('./data/21.대전광역시_평일_일별_혼잡빈도강도(2018).csv')\n",
    "chaos_frequency = chaos_frequency[['상세도로망_LinkID','도로등급','링크길이','혼잡빈도강도']]\n",
    "\n",
    "chaos_time = pd.read_csv('./data/22.대전광역시_평일_일별_혼잡시간강도(2018).csv')\n",
    "chaos_time = chaos_time[['상세도로망_LinkID','혼잡시간강도']]"
   ]
  },
  {
   "cell_type": "code",
   "execution_count": 11,
   "id": "separate-navigator",
   "metadata": {},
   "outputs": [],
   "source": [
    "# 상세도로망 데이터와 merge하기 위해 세팅\n",
    "CI = pd.merge(chaos_time, chaos_frequency, on = '상세도로망_LinkID')\n",
    "CI = CI[['상세도로망_LinkID','혼잡시간강도','혼잡빈도강도']]\n",
    "CI['상세도로망_LinkID'] = CI['상세도로망_LinkID'].astype(str)\n",
    "CI['LinkID'] = CI.상세도로망_LinkID.str[:-2]\n",
    "CI.drop(['상세도로망_LinkID'],axis=1,inplace = True)\n",
    "\n",
    "traffic_est = traffic_est[['상세도로망_LinkID','전체_추정교통량']]\n",
    "traffic_est['상세도로망_LinkID'] = traffic_est['상세도로망_LinkID'].astype(str)\n",
    "traffic_est['LinkID'] = traffic_est.상세도로망_LinkID.str[:-2]\n",
    "traffic_est.drop(['상세도로망_LinkID'],axis=1,inplace = True)"
   ]
  },
  {
   "cell_type": "code",
   "execution_count": 12,
   "id": "improved-dublin",
   "metadata": {},
   "outputs": [],
   "source": [
    "result1 = CI.groupby(['LinkID'], as_index = False, sort=False).mean() # 혼잡도\n",
    "result2 = traffic_est.groupby(['LinkID'],as_index=False, sort=False).mean() # 교통량"
   ]
  },
  {
   "cell_type": "code",
   "execution_count": 13,
   "id": "pursuant-writing",
   "metadata": {},
   "outputs": [],
   "source": [
    "# 상세도로망 데이터 셋팅\n",
    "specific_road = specific_road[['link_id','max_speed','oneway','width','barrier','geometry']]\n",
    "specific_road.loc[specific_road[\"barrier\"] != '0', 'barrier'] = 1\n",
    "specific_road.rename({'link_id':'LinkID'}, axis=1, inplace=True)\n",
    "specific_road['LinkID'] = specific_road['LinkID'].astype(str)"
   ]
  },
  {
   "cell_type": "code",
   "execution_count": 14,
   "id": "charged-seminar",
   "metadata": {},
   "outputs": [],
   "source": [
    "# 상세도로망 데이터와 혼잡도, 교통량 merge\n",
    "temp = pd.merge(specific_road, result1, on='LinkID',how='outer')\n",
    "temp = pd.merge(temp, result2,on='LinkID',how='outer')\n",
    "\n",
    "# 중간값으로 결측 처리\n",
    "temp['혼잡시간강도'].fillna(74.823,inplace=True)\n",
    "temp['혼잡빈도강도'].fillna(49.978,inplace=True)\n",
    "temp['전체_추정교통량'].fillna(3227.5,inplace=True)"
   ]
  },
  {
   "cell_type": "code",
   "execution_count": 15,
   "id": "lucky-canon",
   "metadata": {},
   "outputs": [],
   "source": [
    "result = gpd.sjoin(acci_grid, temp, how='left', op='intersects')\n",
    "result.dropna(inplace=True)\n",
    "result.drop('oneway',axis=1,inplace=True)"
   ]
  },
  {
   "cell_type": "code",
   "execution_count": null,
   "id": "indonesian-matthew",
   "metadata": {},
   "outputs": [],
   "source": [
    "# 상세도로망 위 격자\n",
    "result = gpd.sjoin(acci_grid, temp, how='left', op='intersects')\n",
    "result.dropna(inplace=True)\n",
    "result.drop('oneway',axis=1,inplace=True)\n",
    "result2 = result.groupby(['gid','geometry'],as_index=False,sort=False).mean() # 중복 격자 데이터는 평균으로 처리\n",
    "\n",
    "result2.to_file(\"specific_road_to_grid.geojson\", driver='GeoJSON') # save"
   ]
  },
  {
   "cell_type": "markdown",
   "id": "partial-upset",
   "metadata": {},
   "source": [
    "## 파일 로드"
   ]
  },
  {
   "cell_type": "code",
   "execution_count": 19,
   "id": "intended-decline",
   "metadata": {},
   "outputs": [],
   "source": [
    "grid = gpd.read_file('./grid.geojson') # 대전광역시 격자\n",
    "landmap = gpd.read_file('./연속지적도 상 도로.geojson') # 연속지적도 상 도로\n",
    "specific = gpd.read_file('./specific_road_to_grid.geojson') # 상세도로망 상 도로\n",
    "\n",
    "result = gpd.read_file('./result.geojson') # 전처리 파일"
   ]
  },
  {
   "cell_type": "code",
   "execution_count": 21,
   "id": "traditional-south",
   "metadata": {
    "scrolled": true
   },
   "outputs": [
    {
     "name": "stdout",
     "output_type": "stream",
     "text": [
      "연속지적도 상 도로 위 격자는 총 20635개입니다.\n"
     ]
    }
   ],
   "source": [
    "landmap_on_grid = gpd.sjoin(grid, landmap, how='left', op='intersects')\n",
    "landmap_on_grid.dropna(inplace=True)\n",
    "print('연속지적도 상 도로 위 격자는 총 {}개입니다.'.format(len(set(landmap_on_grid['gid']))))"
   ]
  },
  {
   "cell_type": "code",
   "execution_count": 22,
   "id": "suburban-dispute",
   "metadata": {},
   "outputs": [
    {
     "name": "stdout",
     "output_type": "stream",
     "text": [
      "상세도로망 위 격자는 총 12411개입니다.\n"
     ]
    }
   ],
   "source": [
    "grids_on_specific = set(specific['gid'])\n",
    "print('상세도로망 위 격자는 총 {}개입니다.'.format(len(grids_on_specific)))"
   ]
  },
  {
   "cell_type": "code",
   "execution_count": 24,
   "id": "figured-qatar",
   "metadata": {
    "scrolled": true
   },
   "outputs": [
    {
     "name": "stdout",
     "output_type": "stream",
     "text": [
      "도로 위 격자는 총 21449개입니다.\n"
     ]
    }
   ],
   "source": [
    "# 연속지적도 위 격자와 상세도로망 위 격자 - 합집합\n",
    "grids_on_landmap = (set(landmap_on_grid['gid']))\n",
    "grids_on_road = grids_on_landmap | grids_on_specific\n",
    "grids_on_road = list(grids_on_road)\n",
    "print('도로 위 격자는 총 {}개입니다.'.format(len(grids_on_road)))\n",
    "\n",
    "# 도로 위 격자\n",
    "result_on_road = result[result['gid'].isin(grids_on_road)]"
   ]
  },
  {
   "cell_type": "code",
   "execution_count": 27,
   "id": "innovative-evidence",
   "metadata": {},
   "outputs": [],
   "source": [
    "# 나머지 데이터에 사고 건수가 있다면 도로 위가 아니더라도 격자에 포함한다\n",
    "result_noton_road = result[~result['gid'].isin(grids_on_road)]\n",
    "temp = result_noton_road[result_noton_road['acci_cnt']>0]\n",
    "grids_acci = list(temp['gid'])"
   ]
  },
  {
   "cell_type": "code",
   "execution_count": 28,
   "id": "flying-timber",
   "metadata": {},
   "outputs": [],
   "source": [
    "# 최종 전처리 파일\n",
    "total_grids = grids_acci + grids_on_road\n",
    "final_result = result[result['gid'].isin(total_grids)]"
   ]
  },
  {
   "cell_type": "code",
   "execution_count": 32,
   "id": "accessible-finish",
   "metadata": {},
   "outputs": [],
   "source": [
    "final_result.to_file(\"final_result.geojson\", driver='GeoJSON') # geojson 파일로 저장\n",
    "final_result.to_csv(\"./final_result.csv\") # csv 파일로 저장"
   ]
  }
 ],
 "metadata": {
  "kernelspec": {
   "display_name": "Python 3",
   "language": "python",
   "name": "python3"
  },
  "language_info": {
   "codemirror_mode": {
    "name": "ipython",
    "version": 3
   },
   "file_extension": ".py",
   "mimetype": "text/x-python",
   "name": "python",
   "nbconvert_exporter": "python",
   "pygments_lexer": "ipython3",
   "version": "3.6.9"
  }
 },
 "nbformat": 4,
 "nbformat_minor": 5
}
